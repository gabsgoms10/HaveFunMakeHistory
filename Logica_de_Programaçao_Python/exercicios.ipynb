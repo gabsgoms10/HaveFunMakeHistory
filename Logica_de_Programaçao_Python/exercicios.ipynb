{
 "cells": [
  {
   "cell_type": "code",
   "execution_count": 2,
   "metadata": {},
   "outputs": [],
   "source": [
    "import selenium\n",
    "from selenium import webdriver\n",
    "from webdriver_manager.chrome import ChromeDriverManager\n",
    "from selenium.webdriver.common.by import By\n",
    "import selenium.webdriver.remote.webelement\n",
    "import time"
   ]
  },
  {
   "cell_type": "code",
   "execution_count": 3,
   "metadata": {},
   "outputs": [],
   "source": [
    "#Acessando\n",
    "driver = webdriver.Chrome()\n",
    "page_url = \"https://moodle.ufabc.edu.br/course/view.php?id=3538\"\n",
    "driver.get(page_url)\n",
    "#login\n",
    "username = ''\n",
    "passw = ''\n",
    "driver.find_element(\"id\", \"username\").send_keys(username)\n",
    "driver.find_element(\"id\", \"password\").send_keys(passw)\n",
    "driver.find_element(By.XPATH, '//button[text()=\"Acessar\"]').click()"
   ]
  },
  {
   "cell_type": "code",
   "execution_count": 4,
   "metadata": {},
   "outputs": [],
   "source": [
    "Topicos = driver.find_elements(By.CLASS_NAME, 'aalink')"
   ]
  },
  {
   "cell_type": "code",
   "execution_count": 32,
   "metadata": {},
   "outputs": [],
   "source": [
    "Dict =[]\n",
    "Inicio = [50,58,66,72,80,86,93,99,105]\n",
    "Fim = [56,64,70,78,84,90,97,103,110]\n",
    "for Contador  in range(len(Topicos)):\n",
    "    for a in range(len(Inicio)):\n",
    "      if Contador in range(Inicio[a],Fim[a]):\n",
    "        Dict.append({'Title':Topicos[Contador].text, 'Link':Topicos[Contador].get_attribute('href')})\n"
   ]
  },
  {
   "cell_type": "code",
   "execution_count": 34,
   "metadata": {},
   "outputs": [
    {
     "data": {
      "text/plain": [
       "43"
      ]
     },
     "execution_count": 34,
     "metadata": {},
     "output_type": "execute_result"
    }
   ],
   "source": [
    "len(Dict)"
   ]
  }
 ],
 "metadata": {
  "kernelspec": {
   "display_name": "Python 3",
   "language": "python",
   "name": "python3"
  },
  "language_info": {
   "codemirror_mode": {
    "name": "ipython",
    "version": 3
   },
   "file_extension": ".py",
   "mimetype": "text/x-python",
   "name": "python",
   "nbconvert_exporter": "python",
   "pygments_lexer": "ipython3",
   "version": "3.10.10"
  }
 },
 "nbformat": 4,
 "nbformat_minor": 2
}
