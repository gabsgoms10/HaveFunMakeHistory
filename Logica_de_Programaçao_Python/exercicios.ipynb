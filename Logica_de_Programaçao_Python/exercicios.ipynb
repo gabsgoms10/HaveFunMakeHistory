{
 "cells": [
  {
   "cell_type": "code",
   "execution_count": 146,
   "metadata": {},
   "outputs": [],
   "source": [
    "import selenium\n",
    "from selenium import webdriver\n",
    "from webdriver_manager.chrome import ChromeDriverManager\n",
    "from selenium.webdriver.common.by import By\n",
    "import selenium.webdriver.remote.webelement\n",
    "import time"
   ]
  },
  {
   "cell_type": "code",
   "execution_count": 147,
   "metadata": {},
   "outputs": [],
   "source": [
    "#Acessando\n",
    "driver = webdriver.Chrome()\n",
    "page_url = \"https://moodle.ufabc.edu.br/course/view.php?id=3538\"\n",
    "driver.get(page_url)\n",
    "#login\n",
    "username = 'gabriel.cipriano'\n",
    "passw = '%8z_7aYDEFfG@4zJ@Lm'\n",
    "driver.find_element(\"id\", \"username\").send_keys(username)\n",
    "driver.find_element(\"id\", \"password\").send_keys(passw)\n",
    "driver.find_element(By.XPATH, '//button[text()=\"Acessar\"]').click()"
   ]
  },
  {
   "cell_type": "code",
   "execution_count": 148,
   "metadata": {},
   "outputs": [],
   "source": [
    "Topicos = driver.find_elements(By.CLASS_NAME, 'aalink')"
   ]
  },
  {
   "cell_type": "code",
   "execution_count": 149,
   "metadata": {},
   "outputs": [],
   "source": [
    "Dict =[]\n",
    "for Topico  in Topicos:\n",
    "    Dict.append({'Title':Topico.text, 'Link':Topico.get_attribute('href')})"
   ]
  }
 ],
 "metadata": {
  "kernelspec": {
   "display_name": "Python 3",
   "language": "python",
   "name": "python3"
  },
  "language_info": {
   "codemirror_mode": {
    "name": "ipython",
    "version": 3
   },
   "file_extension": ".py",
   "mimetype": "text/x-python",
   "name": "python",
   "nbconvert_exporter": "python",
   "pygments_lexer": "ipython3",
   "version": "3.10.10"
  }
 },
 "nbformat": 4,
 "nbformat_minor": 2
}
