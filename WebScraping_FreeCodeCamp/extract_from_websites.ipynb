import pandas as pd

# target: https://www.football-data.co.uk/mmz4281/2324/E0.csv

football_data = pd.read_csv('https://www.football-data.co.uk/mmz4281/2324/E0.csv')

print(football_data)

