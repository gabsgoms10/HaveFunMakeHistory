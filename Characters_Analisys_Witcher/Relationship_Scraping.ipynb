{
 "cells": [
  {
   "cell_type": "code",
   "execution_count": 50,
   "metadata": {},
   "outputs": [],
   "source": [
    "from selenium.webdriver.common.by import By\n",
    "import pandas as pd\n",
    "import time\n",
    "import matplotlib.pyplot as plt\n",
    "import selenium\n",
    "from selenium import webdriver\n",
    "from webdriver_manager.chrome import ChromeDriverManager"
   ]
  },
  {
   "cell_type": "code",
   "execution_count": 51,
   "metadata": {},
   "outputs": [],
   "source": [
    "#Criar Driver\n",
    "driver = webdriver.Chrome()\n",
    "\n",
    "#Abrir Site\n",
    "page_url = \"https://witcher.fandom.com/wiki/Category:Characters_in_the_stories\"\n",
    "driver.get(page_url)\n",
    "\n",
    "#Aceitar Cookies\n",
    "time.sleep(10)\n",
    "driver.find_element(By.XPATH, '//div[text()=\"ACEITAR\"]').click()"
   ]
  },
  {
   "cell_type": "code",
   "execution_count": 52,
   "metadata": {},
   "outputs": [],
   "source": [
    "book_categories = driver.find_elements(By.CLASS_NAME, 'category-page__member-link')\n",
    "\n",
    "books = []\n",
    "\n",
    "for category in book_categories:\n",
    "    book_url= category.get_attribute('href')\n",
    "    book_name = category.text\n",
    "    books.append({'book_name':book_name, 'url': book_url})\n"
   ]
  },
  {
   "cell_type": "code",
   "execution_count": 53,
   "metadata": {},
   "outputs": [],
   "source": [
    "character_list=[]\n",
    "for book in books:\n",
    "  driver.get(book['url'])\n",
    "  character_elems = driver.find_elements(By.CLASS_NAME, 'category-page__member-link')\n",
    "  for elem in character_elems:\n",
    "    character_list.append({'book':book['book_name'], 'character':elem.text})"
   ]
  },
  {
   "cell_type": "code",
   "execution_count": 54,
   "metadata": {},
   "outputs": [],
   "source": [
    "character_df = pd.DataFrame(character_list)\n",
    "character_df.to_csv('characters.csv', index=False)"
   ]
  }
 ],
 "metadata": {
  "kernelspec": {
   "display_name": "Python 3",
   "language": "python",
   "name": "python3"
  },
  "language_info": {
   "codemirror_mode": {
    "name": "ipython",
    "version": 3
   },
   "file_extension": ".py",
   "mimetype": "text/x-python",
   "name": "python",
   "nbconvert_exporter": "python",
   "pygments_lexer": "ipython3",
   "version": "3.10.10"
  }
 },
 "nbformat": 4,
 "nbformat_minor": 2
}
